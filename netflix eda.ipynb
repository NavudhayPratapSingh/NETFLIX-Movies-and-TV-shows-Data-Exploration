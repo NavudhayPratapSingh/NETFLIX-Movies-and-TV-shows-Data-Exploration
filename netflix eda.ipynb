{
 "cells": [
  {
   "cell_type": "markdown",
   "metadata": {},
   "source": [
    "<h1>NETFLIX Movies and TV shows Data Exploration</h1>\n",
    "<img src='data:image/png;base64,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'>"
   ]
  },
  {
   "cell_type": "markdown",
   "metadata": {},
   "source": [
    "<h2>Dataset Content</h2>\n",
    "<p>This dataset consists of tv shows and movies available on Netflix as of 2019. The dataset is collected from Flixable which is a third-party Netflix search engine.\n",
    "</p>\n",
    "<ul>Inspiration\n",
    "    <li>Understanding what content is available in different countries</li>\n",
    "    <li>Identifying similar content by matching text-based features</li>\n",
    "    <li>Network analysis of Actors / Directors and find interesting insights</li>\n",
    "    <li>Is Netflix has increasingly focusing on TV rather than movies in recent years.</li>\n",
    "</ul>"
   ]
  },
  {
   "cell_type": "code",
   "execution_count": 14,
   "metadata": {
    "_cell_guid": "b1076dfc-b9ad-4769-8c92-a6c4dae69d19",
    "_uuid": "8f2839f25d086af736a60e9eeb907d3b93b6e0e5"
   },
   "outputs": [],
   "source": [
    "import numpy as np # linear algebra\n",
    "import pandas as pd # data processing, CSV file I/O (e.g. pd.read_csv)\n",
    "import matplotlib.pyplot as plt\n",
    "import seaborn as sns\n",
    "import os\n",
    "plt.style.use('seaborn-whitegrid')\n",
    "sns.set_style('whitegrid')\n",
    "for dirname, _, filenames in os.walk('/input'):\n",
    "    for filename in filenames:\n",
    "        print(os.path.join(dirname, filename))"
   ]
  },
  {
   "cell_type": "code",
   "execution_count": 15,
   "metadata": {
    "_cell_guid": "79c7e3d0-c299-4dcb-8224-4455121ee9b0",
    "_uuid": "d629ff2d2480ee46fbb7e2d37f6b5fab8052498a"
   },
   "outputs": [
    {
     "name": "stdout",
     "output_type": "stream",
     "text": [
      "Done!\n"
     ]
    }
   ],
   "source": [
    "df=pd.read_csv('C:/Users/ASUS/Downloads/netflix data visualization project/netflix data visualization/netflix_titles_nov_2019.csv')\n",
    "print('Done!')"
   ]
  },
  {
   "cell_type": "markdown",
   "metadata": {},
   "source": [
    "<h1>Data Investigation</h1>"
   ]
  },
  {
   "cell_type": "code",
   "execution_count": 16,
   "metadata": {},
   "outputs": [
    {
     "name": "stdout",
     "output_type": "stream",
     "text": [
      "netflix movies and shows:  5837\n",
      "dataset variables:  12\n",
      "----------\n",
      "dateset columns: \n",
      "\n",
      "Index(['show_id', 'title', 'director', 'cast', 'country', 'date_added',\n",
      "       'release_year', 'rating', 'duration', 'listed_in', 'description',\n",
      "       'type'],\n",
      "      dtype='object')\n",
      "----------\n",
      "data-type of each column: \n",
      "\n",
      "show_id          int64\n",
      "title           object\n",
      "director        object\n",
      "cast            object\n",
      "country         object\n",
      "date_added      object\n",
      "release_year     int64\n",
      "rating          object\n",
      "duration        object\n",
      "listed_in       object\n",
      "description     object\n",
      "type            object\n",
      "dtype: object\n",
      "----------\n",
      "missing rows in each column: \n",
      "\n",
      "director      1901\n",
      "cast           556\n",
      "country        427\n",
      "date_added     642\n",
      "rating          10\n",
      "dtype: int64\n"
     ]
    }
   ],
   "source": [
    "def data_inv(df):\n",
    "    print('netflix movies and shows: ',df.shape[0])\n",
    "    print('dataset variables: ',df.shape[1])\n",
    "    print('-'*10)\n",
    "    print('dateset columns: \\n')\n",
    "    print(df.columns)\n",
    "    print('-'*10)\n",
    "    print('data-type of each column: \\n')\n",
    "    print(df.dtypes)\n",
    "    print('-'*10)\n",
    "    print('missing rows in each column: \\n')\n",
    "    c=df.isnull().sum()\n",
    "    print(c[c>0])\n",
    "data_inv(df)"
   ]
  },
  {
   "cell_type": "markdown",
   "metadata": {},
   "source": [
    "<h1>Data Cleaning</h1>"
   ]
  },
  {
   "cell_type": "code",
   "execution_count": 17,
   "metadata": {},
   "outputs": [
    {
     "data": {
      "text/html": [
       "<div>\n",
       "<style scoped>\n",
       "    .dataframe tbody tr th:only-of-type {\n",
       "        vertical-align: middle;\n",
       "    }\n",
       "\n",
       "    .dataframe tbody tr th {\n",
       "        vertical-align: top;\n",
       "    }\n",
       "\n",
       "    .dataframe thead th {\n",
       "        text-align: right;\n",
       "    }\n",
       "</style>\n",
       "<table border=\"1\" class=\"dataframe\">\n",
       "  <thead>\n",
       "    <tr style=\"text-align: right;\">\n",
       "      <th></th>\n",
       "      <th>show_id</th>\n",
       "      <th>title</th>\n",
       "      <th>director</th>\n",
       "      <th>cast</th>\n",
       "      <th>country</th>\n",
       "      <th>date_added</th>\n",
       "      <th>release_year</th>\n",
       "      <th>rating</th>\n",
       "      <th>duration</th>\n",
       "      <th>listed_in</th>\n",
       "      <th>description</th>\n",
       "      <th>type</th>\n",
       "    </tr>\n",
       "  </thead>\n",
       "  <tbody>\n",
       "    <tr>\n",
       "      <th>1134</th>\n",
       "      <td>80175351</td>\n",
       "      <td>Kakegurui</td>\n",
       "      <td>NaN</td>\n",
       "      <td>Saori Hayami, Minami Tanaka, Tatsuya Tokutake,...</td>\n",
       "      <td>Japan</td>\n",
       "      <td>NaN</td>\n",
       "      <td>2019</td>\n",
       "      <td>TV-14</td>\n",
       "      <td>2 Seasons</td>\n",
       "      <td>Anime Series, International TV Shows, TV Thril...</td>\n",
       "      <td>High roller Yumeko Jabami plans to clean house...</td>\n",
       "      <td>TV Show</td>\n",
       "    </tr>\n",
       "    <tr>\n",
       "      <th>1741</th>\n",
       "      <td>81072516</td>\n",
       "      <td>Sarkar</td>\n",
       "      <td>A.R. Murugadoss</td>\n",
       "      <td>Vijay, Varalakshmi Sarathkumar, Keerthi Suresh...</td>\n",
       "      <td>India</td>\n",
       "      <td>March 2, 2019</td>\n",
       "      <td>2018</td>\n",
       "      <td>TV-MA</td>\n",
       "      <td>162 min</td>\n",
       "      <td>Action &amp; Adventure, Dramas, International Movies</td>\n",
       "      <td>A ruthless businessman’s mission to expose ele...</td>\n",
       "      <td>Movie</td>\n",
       "    </tr>\n",
       "  </tbody>\n",
       "</table>\n",
       "</div>"
      ],
      "text/plain": [
       "       show_id      title         director  \\\n",
       "1134  80175351  Kakegurui              NaN   \n",
       "1741  81072516     Sarkar  A.R. Murugadoss   \n",
       "\n",
       "                                                   cast country  \\\n",
       "1134  Saori Hayami, Minami Tanaka, Tatsuya Tokutake,...   Japan   \n",
       "1741  Vijay, Varalakshmi Sarathkumar, Keerthi Suresh...   India   \n",
       "\n",
       "         date_added  release_year rating   duration  \\\n",
       "1134            NaN          2019  TV-14  2 Seasons   \n",
       "1741  March 2, 2019          2018  TV-MA    162 min   \n",
       "\n",
       "                                              listed_in  \\\n",
       "1134  Anime Series, International TV Shows, TV Thril...   \n",
       "1741   Action & Adventure, Dramas, International Movies   \n",
       "\n",
       "                                            description     type  \n",
       "1134  High roller Yumeko Jabami plans to clean house...  TV Show  \n",
       "1741  A ruthless businessman’s mission to expose ele...    Movie  "
      ]
     },
     "execution_count": 17,
     "metadata": {},
     "output_type": "execute_result"
    }
   ],
   "source": [
    "dups=df.duplicated(['title','country','type','release_year'])\n",
    "df[dups]"
   ]
  },
  {
   "cell_type": "code",
   "execution_count": 18,
   "metadata": {},
   "outputs": [],
   "source": [
    "df=df.drop_duplicates(['title','country','type','release_year'])"
   ]
  },
  {
   "cell_type": "code",
   "execution_count": 19,
   "metadata": {},
   "outputs": [],
   "source": [
    "df=df.drop('show_id',axis=1)"
   ]
  },
  {
   "cell_type": "code",
   "execution_count": 20,
   "metadata": {},
   "outputs": [],
   "source": [
    "df['cast']=df['cast'].replace(np.nan,'Unknown')\n",
    "def cast_counter(cast):\n",
    "    if cast=='Unknown':\n",
    "        return 0\n",
    "    else:\n",
    "        lst=cast.split(', ')\n",
    "        length=len(lst)\n",
    "        return length\n",
    "df['number_of_cast']=df['cast'].apply(cast_counter)\n",
    "df['cast']=df['cast'].replace('Unknown',np.nan)"
   ]
  },
  {
   "cell_type": "code",
   "execution_count": 21,
   "metadata": {},
   "outputs": [],
   "source": [
    "df=df.reset_index()"
   ]
  },
  {
   "cell_type": "code",
   "execution_count": 22,
   "metadata": {},
   "outputs": [],
   "source": [
    "df['rating']=df['rating'].fillna(df['rating'].mode()[0])"
   ]
  },
  {
   "cell_type": "code",
   "execution_count": 23,
   "metadata": {},
   "outputs": [],
   "source": [
    "df['date_added']=df['date_added'].fillna('January 1, {}'.format(str(df['release_year'].mode()[0])))"
   ]
  },
  {
   "cell_type": "code",
   "execution_count": 24,
   "metadata": {},
   "outputs": [],
   "source": [
    "for i,j in zip(df['country'].values,df.index):\n",
    "    if i==np.nan:\n",
    "        if ('Anime' in df.loc[j,'listed_in']) or ('anime' in df.loc[j,'listed_in']):\n",
    "                df.loc[j,'country']='Japan'\n",
    "        else:\n",
    "            continue\n",
    "    else:\n",
    "        continue"
   ]
  },
  {
   "cell_type": "code",
   "execution_count": 25,
   "metadata": {},
   "outputs": [],
   "source": [
    "import re\n",
    "months={\n",
    "    'January':1,\n",
    "    'February':2,\n",
    "    'March':3,\n",
    "    'April':4,\n",
    "    'May':5,\n",
    "    'June':6,\n",
    "    'July':7,\n",
    "    'August':8,\n",
    "    'September':9,\n",
    "    'October':10,\n",
    "    'November':11,\n",
    "    'December':12\n",
    "}\n",
    "date_lst=[]\n",
    "for i in df['date_added'].values:\n",
    "    str1=re.findall('([a-zA-Z]+)\\s[0-9]+\\,\\s[0-9]+',i)\n",
    "    str2=re.findall('[a-zA-Z]+\\s([0-9]+)\\,\\s[0-9]+',i)\n",
    "    str3=re.findall('[a-zA-Z]+\\s[0-9]+\\,\\s([0-9]+)',i)\n",
    "    date='{}-{}-{}'.format(str3[0],months[str1[0]],str2[0])\n",
    "    date_lst.append(date)"
   ]
  },
  {
   "cell_type": "code",
   "execution_count": 26,
   "metadata": {},
   "outputs": [],
   "source": [
    "df['date_added_cleaned']=date_lst"
   ]
  },
  {
   "cell_type": "code",
   "execution_count": 27,
   "metadata": {},
   "outputs": [],
   "source": [
    "df=df.drop('date_added',axis=1)"
   ]
  },
  {
   "cell_type": "code",
   "execution_count": 28,
   "metadata": {},
   "outputs": [],
   "source": [
    "df['date_added_cleaned']=df['date_added_cleaned'].astype('datetime64[ns]')"
   ]
  },
  {
   "cell_type": "markdown",
   "metadata": {},
   "source": [
    "<h1>Exploratory Data Analysis</h1>"
   ]
  },
  {
   "cell_type": "markdown",
   "metadata": {},
   "source": [
    "<p>now, it is time to answer some questions.</p>\n",
    "<ul>\n",
    "    <li>Understand every category in rating column(Google it)</li>\n",
    "    <li>Understanding what content is available in different countries.</li>\n",
    "    <li>Is Netflix has increasingly focusing on TV rather than movies in recent years.</li>\n",
    "    <li>The most observed rating categories in TV-shows and Movies </li>\n",
    "    <li>Identifying similar content by matching text-based features</li>\n",
    "    <li>How many content its release year differ from its year added</li>\n",
    "</ul>"
   ]
  },
  {
   "cell_type": "markdown",
   "metadata": {},
   "source": [
    "<p>let's now google the categories and explore them</p>\n",
    "<ul>\n",
    "    <li>TV-MA:This program is specifically designed to be viewed by adults and therefore may be unsuitable for children under 17.</li>\n",
    "    <li>TV-14:This program contains some material that many parents would find unsuitable for children under 14 years of age.</li>\n",
    "    <li>TV-PG:This program contains material that parents may find unsuitable for younger children.</li>\n",
    "    <li>R:Under 17 requires accompanying parent or adult guardian,Parents are urged to learn more about the film before taking their young children with them.</li>\n",
    "    <li>PG-13:Some material may be inappropriate for children under 13. Parents are urged to be cautious. Some material may be inappropriate for pre-teenagers.</li>\n",
    "    <li>NR or UR:If a film has not been submitted for a rating or is an uncut version of a film that was submitted</li>\n",
    "    <li>PG:Some material may not be suitable for children,May contain some material parents might not like for their young children.</li>\n",
    "    <li>TV-Y7:This program is designed for children age 7 and above.</li>\n",
    "    <li>TV-G:This program is suitable for all ages.</li>\n",
    "    <li>TV-Y:Programs rated TV-Y are designed to be appropriate for children of all ages. The thematic elements portrayed in programs with this rating are specifically designed for a very young audience, including children ages 2-6.</li>\n",
    "    <li>TV-Y7-FV:is recommended for ages 7 and older, with the unique advisory that the program contains fantasy violence.</li>\n",
    "    <li>G:All ages admitted. Nothing that would offend parents for viewing by children.</li>\n",
    "    <li>NC-17:No One 17 and Under Admitted. Clearly adult. Children are not admitted.</li>\n",
    "</ul>\n",
    "\n"
   ]
  },
  {
   "cell_type": "code",
   "execution_count": 29,
   "metadata": {},
   "outputs": [],
   "source": [
    "for i in df.index:\n",
    "    if df.loc[i,'rating']=='UR':\n",
    "        df.loc[i,'rating']='NR'"
   ]
  },
  {
   "cell_type": "code",
   "execution_count": 30,
   "metadata": {},
   "outputs": [
    {
     "data": {
      "image/png": "[encoded data removed]",
      "text/plain": [
       "<Figure size 576x432 with 1 Axes>"
      ]
     },
     "metadata": {
      "needs_background": "light"
     },
     "output_type": "display_data"
    }
   ],
   "source": [
    "plt.figure(figsize=(8,6))\n",
    "df['rating'].value_counts(normalize=True).plot.bar()\n",
    "plt.title('Distribution of rating categories')\n",
    "plt.xlabel('rating')\n",
    "plt.ylabel('relative frequency')\n",
    "plt.show()"
   ]
  },
  {
   "cell_type": "markdown",
   "metadata": {},
   "source": [
    "<p><p> after expecting the distribution of rating ctegories, it is abvious that TV-MA is the mode<br>\n",
    "    TV-14 comes in the second place and so on...<br></p>"
   ]
  },
  {
   "cell_type": "code",
   "execution_count": 31,
   "metadata": {},
   "outputs": [
    {
     "data": {
      "image/png": "[encoded data removed]",
      "text/plain": [
       "<Figure size 720x576 with 1 Axes>"
      ]
     },
     "metadata": {
      "needs_background": "light"
     },
     "output_type": "display_data"
    }
   ],
   "source": [
    "plt.figure(figsize=(10,8))\n",
    "sns.countplot(x='rating',hue='type',data=df)\n",
    "plt.title('comparing frequency between type and rating')\n",
    "plt.show()"
   ]
  },
  {
   "cell_type": "markdown",
   "metadata": {},
   "source": [
    "<p>We can say that Movies is the majority category in every rating category on Netflix, except(TV-Y,TV-Y7,TV-Y7-FV).</p> "
   ]
  },
  {
   "cell_type": "code",
   "execution_count": 32,
   "metadata": {},
   "outputs": [
    {
     "data": {
      "text/plain": [
       "United States                                                                                               1907\n",
       "India                                                                                                        696\n",
       "United Kingdom                                                                                               336\n",
       "Japan                                                                                                        167\n",
       "Canada                                                                                                       139\n",
       "                                                                                                            ... \n",
       "United Arab Emirates, Jordan                                                                                   1\n",
       "Denmark, Indonesia, Finland, Norway, United Kingdom, Israel, France, United States, Germany, Netherlands       1\n",
       "Canada, United Kingdom, Netherlands                                                                            1\n",
       "United States, New Zealand, Japan                                                                              1\n",
       "Spain, Mexico, France                                                                                          1\n",
       "Name: country, Length: 527, dtype: int64"
      ]
     },
     "execution_count": 32,
     "metadata": {},
     "output_type": "execute_result"
    }
   ],
   "source": [
    "df['country'].value_counts().sort_values(ascending=False)"
   ]
  },
  {
   "cell_type": "markdown",
   "metadata": {},
   "source": [
    "<p>we have huge number of countries in country column so we will focus on (United States,India,United Kingdom,Japan,Canada,Spain)</p>"
   ]
  },
  {
   "cell_type": "code",
   "execution_count": 33,
   "metadata": {},
   "outputs": [
    {
     "data": {
      "image/png": "[encoded data removed]",
      "text/plain": [
       "<Figure size 720x576 with 1 Axes>"
      ]
     },
     "metadata": {
      "needs_background": "light"
     },
     "output_type": "display_data"
    }
   ],
   "source": [
    "top_productive_countries=df[(df['country']=='United States')|(df['country']=='India')|(df['country']=='United Kingdom')|(df['country']=='Japan')|\n",
    "                             (df['country']=='Canada')|(df['country']=='Spain')]\n",
    "plt.figure(figsize=(10,8))\n",
    "sns.countplot(x='country',hue='type',data=top_productive_countries)\n",
    "plt.title('comparing between the types that the top countries produce')\n",
    "plt.show()"
   ]
  },
  {
   "cell_type": "markdown",
   "metadata": {},
   "source": [
    "<p>UK and Japan produces TV-Shows more than Movies</p>"
   ]
  },
  {
   "cell_type": "code",
   "execution_count": 34,
   "metadata": {},
   "outputs": [
    {
     "name": "stdout",
     "output_type": "stream",
     "text": [
      "India\n",
      "TV-14       53.160920\n",
      "TV-MA       23.419540\n",
      "TV-PG       17.097701\n",
      "NR           2.873563\n",
      "TV-G         1.005747\n",
      "TV-Y7        0.718391\n",
      "PG-13        0.574713\n",
      "PG           0.431034\n",
      "TV-Y7-FV     0.287356\n",
      "R            0.287356\n",
      "TV-Y         0.143678\n",
      "Name: rating, dtype: float64\n",
      "----------\n",
      "United States\n",
      "TV-MA       31.515469\n",
      "TV-14       17.409544\n",
      "R           12.165705\n",
      "TV-PG       10.854746\n",
      "PG-13        7.079182\n",
      "PG           4.876770\n",
      "NR           4.824331\n",
      "TV-G         3.198741\n",
      "TV-Y7        2.621919\n",
      "TV-Y7-FV     2.097535\n",
      "TV-Y         2.045097\n",
      "G            1.258521\n",
      "NC-17        0.052438\n",
      "Name: rating, dtype: float64\n",
      "----------\n",
      "Japan\n",
      "TV-14       46.107784\n",
      "TV-MA       25.748503\n",
      "TV-PG       10.179641\n",
      "NR           7.185629\n",
      "TV-Y7        5.389222\n",
      "PG-13        1.796407\n",
      "TV-Y7-FV     1.197605\n",
      "TV-Y         1.197605\n",
      "PG           0.598802\n",
      "TV-G         0.598802\n",
      "Name: rating, dtype: float64\n",
      "----------\n",
      "Spain\n",
      "TV-MA    64.601770\n",
      "TV-14    19.469027\n",
      "NR        7.079646\n",
      "TV-PG     3.539823\n",
      "PG        1.769912\n",
      "R         1.769912\n",
      "TV-Y      0.884956\n",
      "TV-G      0.884956\n",
      "Name: rating, dtype: float64\n",
      "----------\n",
      "United Kingdom\n",
      "TV-MA       40.773810\n",
      "TV-14       22.321429\n",
      "TV-PG       18.452381\n",
      "R            7.142857\n",
      "TV-G         6.250000\n",
      "NR           2.380952\n",
      "TV-Y7        0.892857\n",
      "TV-Y         0.595238\n",
      "PG           0.595238\n",
      "G            0.297619\n",
      "TV-Y7-FV     0.297619\n",
      "Name: rating, dtype: float64\n",
      "----------\n",
      "Canada\n",
      "TV-MA       31.654676\n",
      "TV-14       17.985612\n",
      "TV-PG       15.107914\n",
      "R            7.913669\n",
      "PG           5.035971\n",
      "TV-Y         4.316547\n",
      "TV-G         4.316547\n",
      "TV-Y7        4.316547\n",
      "TV-Y7-FV     3.597122\n",
      "NR           3.597122\n",
      "PG-13        1.438849\n",
      "G            0.719424\n",
      "Name: rating, dtype: float64\n",
      "----------\n"
     ]
    }
   ],
   "source": [
    "for i in top_productive_countries['country'].unique():\n",
    "    print(i)\n",
    "    print(top_productive_countries[top_productive_countries['country']==i]['rating'].value_counts(normalize=True)*100)\n",
    "    print('-'*10)"
   ]
  },
  {
   "cell_type": "markdown",
   "metadata": {},
   "source": [
    "<p>now let's see if Netflix focuse on TV rather than movies in recent years(2017-2018-2019)</p>"
   ]
  },
  {
   "cell_type": "code",
   "execution_count": 35,
   "metadata": {},
   "outputs": [],
   "source": [
    "df['year_added']=df['date_added_cleaned'].dt.year"
   ]
  },
  {
   "cell_type": "code",
   "execution_count": 36,
   "metadata": {},
   "outputs": [
    {
     "data": {
      "text/plain": [
       "Movie      0.674893\n",
       "TV Show    0.325107\n",
       "Name: type, dtype: float64"
      ]
     },
     "execution_count": 36,
     "metadata": {},
     "output_type": "execute_result"
    }
   ],
   "source": [
    "df['type'].value_counts(normalize=True)"
   ]
  },
  {
   "cell_type": "markdown",
   "metadata": {},
   "source": [
    "<p>relative freuency of movies still has the lead</p>"
   ]
  },
  {
   "cell_type": "code",
   "execution_count": 37,
   "metadata": {},
   "outputs": [
    {
     "data": {
      "text/plain": [
       "year_added  type   \n",
       "2008        Movie       50.000000\n",
       "            TV Show     50.000000\n",
       "2009        Movie      100.000000\n",
       "2010        Movie      100.000000\n",
       "2011        Movie      100.000000\n",
       "2012        Movie       57.142857\n",
       "            TV Show     42.857143\n",
       "2013        Movie       66.666667\n",
       "            TV Show     33.333333\n",
       "2014        Movie      100.000000\n",
       "2015        Movie       78.378378\n",
       "            TV Show     21.621622\n",
       "2016        Movie       64.077670\n",
       "            TV Show     35.922330\n",
       "2017        Movie       77.111486\n",
       "            TV Show     22.888514\n",
       "2018        Movie       56.872247\n",
       "            TV Show     43.127753\n",
       "2019        Movie       74.158523\n",
       "            TV Show     25.841477\n",
       "Name: type, dtype: float64"
      ]
     },
     "execution_count": 37,
     "metadata": {},
     "output_type": "execute_result"
    }
   ],
   "source": [
    "df.groupby('year_added')['type'].value_counts(normalize=True)*100"
   ]
  },
  {
   "cell_type": "markdown",
   "metadata": {},
   "source": [
    "<p>We can say that Netflix begin to focus on TV-Shows,but Movies still has the lead in evey year.</p>"
   ]
  },
  {
   "cell_type": "code",
   "execution_count": 38,
   "metadata": {},
   "outputs": [
    {
     "data": {
      "text/plain": [
       "212                                      Drive\n",
       "511                                     Tunnel\n",
       "1243                                 Supergirl\n",
       "1286                                 Limitless\n",
       "1706                                    Shadow\n",
       "2360                               Oh My Ghost\n",
       "2410                                  Love O2O\n",
       "2765                                    Bleach\n",
       "2801                                   One Day\n",
       "2871                             The Innocents\n",
       "2932                          The Birth Reborn\n",
       "3048                               Oh My Ghost\n",
       "3212                               Us and Them\n",
       "3433                                      Troy\n",
       "3483                                 Locked Up\n",
       "3583                                      Love\n",
       "3585                              The Outsider\n",
       "3591                                     Benji\n",
       "3658                                      Solo\n",
       "3669                               The Silence\n",
       "3670                               The Silence\n",
       "3882                                  Lovesick\n",
       "4013                                The Secret\n",
       "4133                                   Top Boy\n",
       "4223                                       Zoo\n",
       "4239                                   Charmed\n",
       "4268                                  The Code\n",
       "4301                                   Manhunt\n",
       "4337                                      Love\n",
       "4377                                    Maniac\n",
       "4391                       She's Gotta Have It\n",
       "4442                                   Persona\n",
       "4443                             The Iron Lady\n",
       "4453                                 The Saint\n",
       "4511                               The In-Laws\n",
       "4576                                  Hostages\n",
       "4589                                  The Oath\n",
       "4659                                    Tunnel\n",
       "4689                                    Prince\n",
       "4857                           Rosario Tijeras\n",
       "4866                             We Are Family\n",
       "4900                                  Lavender\n",
       "4908                                     Skins\n",
       "4949                               Blood Money\n",
       "5055                                     Tiger\n",
       "5061                       People You May Know\n",
       "5122                                The Lovers\n",
       "5182                                  Aquarius\n",
       "5337    Little Baby Bum: Nursery Rhyme Friends\n",
       "5531                                      Deep\n",
       "5536                                 Limitless\n",
       "5595                           Frank and Cindy\n",
       "5619                               Retribution\n",
       "5732                   Wet Hot American Summer\n",
       "5755                                      Life\n",
       "Name: title, dtype: object"
      ]
     },
     "execution_count": 38,
     "metadata": {},
     "output_type": "execute_result"
    }
   ],
   "source": [
    "dups=df.duplicated(['title'])\n",
    "df[dups]['title']"
   ]
  },
  {
   "cell_type": "markdown",
   "metadata": {},
   "source": [
    "<p>this titles have one or more contents</p>"
   ]
  },
  {
   "cell_type": "code",
   "execution_count": 39,
   "metadata": {},
   "outputs": [
    {
     "name": "stdout",
     "output_type": "stream",
     "text": [
      "     title   type  release_year        country\n",
      "101  Drive  Movie          2011  United States\n",
      "212  Drive  Movie          2019          India\n",
      "----------------------------------------\n",
      "       title     type  release_year      country\n",
      "303   Tunnel  TV Show          2019          NaN\n",
      "511   Tunnel  TV Show          2017  South Korea\n",
      "4659  Tunnel    Movie          2016  South Korea\n",
      "----------------------------------------\n",
      "          title     type  release_year                        country\n",
      "492   Supergirl    Movie          1984  United Kingdom, United States\n",
      "1243  Supergirl  TV Show          2019                  United States\n",
      "----------------------------------------\n",
      "          title     type  release_year        country\n",
      "474   Limitless    Movie          2017          India\n",
      "1286  Limitless    Movie          2011  United States\n",
      "5536  Limitless  TV Show          2016  United States\n",
      "----------------------------------------\n",
      "       title     type  release_year           country\n",
      "154   Shadow    Movie          2018  China, Hong Kong\n",
      "1706  Shadow  TV Show          2019               NaN\n",
      "----------------------------------------\n",
      "            title     type  release_year      country\n",
      "775   Oh My Ghost  TV Show          2015  South Korea\n",
      "2360  Oh My Ghost  TV Show          2018     Thailand\n",
      "3048  Oh My Ghost    Movie          2009     Thailand\n",
      "----------------------------------------\n",
      "         title     type  release_year country\n",
      "1563  Love O2O    Movie          2016   China\n",
      "2410  Love O2O  TV Show          2016   China\n",
      "----------------------------------------\n",
      "       title     type  release_year country\n",
      "2428  Bleach  TV Show          2006   Japan\n",
      "2765  Bleach    Movie          2018   Japan\n",
      "----------------------------------------\n",
      "        title   type  release_year                        country\n",
      "2225  One Day  Movie          2011  United States, United Kingdom\n",
      "2801  One Day  Movie          2016                       Thailand\n",
      "----------------------------------------\n",
      "              title     type  release_year         country\n",
      "2170  The Innocents    Movie          2016  France, Poland\n",
      "2871  The Innocents  TV Show          2018  United Kingdom\n",
      "----------------------------------------\n",
      "                 title   type  release_year country\n",
      "2689  The Birth Reborn  Movie          2018     NaN\n",
      "2932  The Birth Reborn  Movie          2013  Brazil\n",
      "----------------------------------------\n",
      "            title     type  release_year      country\n",
      "775   Oh My Ghost  TV Show          2015  South Korea\n",
      "2360  Oh My Ghost  TV Show          2018     Thailand\n",
      "3048  Oh My Ghost    Movie          2009     Thailand\n",
      "----------------------------------------\n",
      "            title   type  release_year         country\n",
      "3115  Us and Them  Movie          2017  United Kingdom\n",
      "3212  Us and Them  Movie          2018           China\n",
      "----------------------------------------\n",
      "     title     type  release_year  \\\n",
      "510   Troy    Movie          2004   \n",
      "3433  Troy  TV Show          2018   \n",
      "\n",
      "                                                country  \n",
      "510                United States, Malta, United Kingdom  \n",
      "3433  United Kingdom, South Africa, Australia, Unite...  \n",
      "----------------------------------------\n",
      "          title     type  release_year        country\n",
      "538   Locked Up  TV Show          2019          Spain\n",
      "3483  Locked Up    Movie          2017  United States\n",
      "----------------------------------------\n",
      "     title     type  release_year          country\n",
      "2341  Love    Movie          2008        Indonesia\n",
      "3583  Love  TV Show          2018    United States\n",
      "4337  Love    Movie          2015  France, Belgium\n",
      "----------------------------------------\n",
      "             title   type  release_year        country\n",
      "591   The Outsider  Movie          2019  United States\n",
      "3585  The Outsider  Movie          2018  United States\n",
      "----------------------------------------\n",
      "      title   type  release_year                              country\n",
      "3542  Benji  Movie          2018  United Arab Emirates, United States\n",
      "3591  Benji  Movie          1974                        United States\n",
      "----------------------------------------\n",
      "     title   type  release_year country\n",
      "2050  Solo  Movie          2018   Spain\n",
      "3658  Solo  Movie          2017   India\n",
      "----------------------------------------\n",
      "            title   type  release_year  country\n",
      "1514  The Silence  Movie          2019  Germany\n",
      "3669  The Silence  Movie          2017    India\n",
      "3670  The Silence  Movie          2015    India\n",
      "----------------------------------------\n",
      "            title   type  release_year  country\n",
      "1514  The Silence  Movie          2019  Germany\n",
      "3669  The Silence  Movie          2017    India\n",
      "3670  The Silence  Movie          2015    India\n",
      "----------------------------------------\n",
      "         title     type  release_year         country\n",
      "2807  Lovesick  TV Show          2014             NaN\n",
      "3882  Lovesick  TV Show          2018  United Kingdom\n",
      "----------------------------------------\n",
      "           title   type  release_year                   country\n",
      "2761  The Secret  Movie          2018                       NaN\n",
      "4013  The Secret  Movie          2006  Australia, United States\n",
      "----------------------------------------\n",
      "        title     type  release_year         country\n",
      "611   Top Boy  TV Show          2019  United Kingdom\n",
      "4133  Top Boy  TV Show          2011  United Kingdom\n",
      "----------------------------------------\n",
      "     title     type  release_year        country\n",
      "3178   Zoo    Movie          2018          India\n",
      "4223   Zoo  TV Show          2017  United States\n",
      "----------------------------------------\n",
      "        title     type  release_year        country\n",
      "1240  Charmed  TV Show          2019  United States\n",
      "4239  Charmed  TV Show          2005  United States\n",
      "----------------------------------------\n",
      "         title     type  release_year         country\n",
      "3773  The Code  TV Show          2011  United Kingdom\n",
      "4268  The Code  TV Show          2014       Australia\n",
      "----------------------------------------\n",
      "        title     type  release_year           country\n",
      "3317  Manhunt    Movie          2017  China, Hong Kong\n",
      "4301  Manhunt  TV Show          2017     United States\n",
      "----------------------------------------\n",
      "     title     type  release_year          country\n",
      "2341  Love    Movie          2008        Indonesia\n",
      "3583  Love  TV Show          2018    United States\n",
      "4337  Love    Movie          2015  France, Belgium\n",
      "----------------------------------------\n",
      "       title     type  release_year        country\n",
      "2732  Maniac  TV Show          2018  United States\n",
      "4377  Maniac  TV Show          2015         Norway\n",
      "----------------------------------------\n",
      "                    title     type  release_year        country\n",
      "1252  She's Gotta Have It  TV Show          2018  United States\n",
      "4391  She's Gotta Have It    Movie          1986  United States\n",
      "----------------------------------------\n",
      "        title     type  release_year      country\n",
      "1510  Persona  TV Show          2019  South Korea\n",
      "4442  Persona  TV Show          2015          NaN\n",
      "----------------------------------------\n",
      "              title     type  release_year                 country\n",
      "950   The Iron Lady    Movie          2011  United Kingdom, France\n",
      "4443  The Iron Lady  TV Show          2009                     NaN\n",
      "----------------------------------------\n",
      "          title   type  release_year        country\n",
      "671   The Saint  Movie          1997  United States\n",
      "4453  The Saint  Movie          2017  United States\n",
      "----------------------------------------\n",
      "            title     type  release_year                         country\n",
      "1023  The In-Laws    Movie          2003  United States, Germany, Canada\n",
      "4511  The In-Laws  TV Show          2011                             NaN\n",
      "----------------------------------------\n",
      "         title     type  release_year country\n",
      "3782  Hostages    Movie          2017     NaN\n",
      "4576  Hostages  TV Show          2016  Israel\n",
      "----------------------------------------\n",
      "         title     type  release_year    country\n",
      "4012  The Oath    Movie          2016    Iceland\n",
      "4589  The Oath  TV Show          2011  Singapore\n",
      "----------------------------------------\n",
      "       title     type  release_year      country\n",
      "303   Tunnel  TV Show          2019          NaN\n",
      "511   Tunnel  TV Show          2017  South Korea\n",
      "4659  Tunnel    Movie          2016  South Korea\n",
      "----------------------------------------\n",
      "       title   type  release_year country\n",
      "3490  Prince  Movie          2010   India\n",
      "4689  Prince  Movie          1969   India\n",
      "----------------------------------------\n",
      "                title     type  release_year   country\n",
      "1265  Rosario Tijeras  TV Show          2018    Mexico\n",
      "4857  Rosario Tijeras  TV Show          2010  Colombia\n",
      "----------------------------------------\n",
      "              title   type  release_year           country\n",
      "2697  We Are Family  Movie          2010  India, Australia\n",
      "4866  We Are Family  Movie          2016   France, Belgium\n",
      "----------------------------------------\n",
      "         title     type  release_year                country\n",
      "2025  Lavender  TV Show          2002                 Taiwan\n",
      "4900  Lavender    Movie          2016  Canada, United States\n",
      "----------------------------------------\n",
      "      title     type  release_year         country\n",
      "4479  Skins  TV Show          2013  United Kingdom\n",
      "4908  Skins    Movie          2017           Spain\n",
      "----------------------------------------\n",
      "            title   type  release_year        country\n",
      "3712  Blood Money  Movie          2017  United States\n",
      "4949  Blood Money  Movie          2012          India\n",
      "----------------------------------------\n",
      "      title   type  release_year           country\n",
      "2692  Tiger  Movie          2016             India\n",
      "5055  Tiger  Movie          2016  Argentina, Italy\n",
      "----------------------------------------\n",
      "                    title   type  release_year               country\n",
      "3687  People You May Know  Movie          2017         United States\n",
      "5061  People You May Know  Movie          2016  United States, Spain\n",
      "----------------------------------------\n",
      "           title   type  release_year                    country\n",
      "161   The Lovers  Movie          2017              United States\n",
      "5122  The Lovers  Movie          2015  Belgium, India, Australia\n",
      "----------------------------------------\n",
      "         title     type  release_year         country\n",
      "4629  Aquarius  TV Show          2016   United States\n",
      "5182  Aquarius    Movie          2016  Brazil, France\n",
      "----------------------------------------\n",
      "                                       title     type  release_year country\n",
      "357   Little Baby Bum: Nursery Rhyme Friends  TV Show          2019     NaN\n",
      "5337  Little Baby Bum: Nursery Rhyme Friends    Movie          2016     NaN\n",
      "----------------------------------------\n",
      "     title     type  release_year  \\\n",
      "4059  Deep    Movie          2017   \n",
      "5531  Deep  TV Show          2016   \n",
      "\n",
      "                                                country  \n",
      "4059  Spain, Belgium, Switzerland, United States, Ch...  \n",
      "5531                                             France  \n",
      "----------------------------------------\n",
      "          title     type  release_year        country\n",
      "474   Limitless    Movie          2017          India\n",
      "1286  Limitless    Movie          2011  United States\n",
      "5536  Limitless  TV Show          2016  United States\n",
      "----------------------------------------\n",
      "                title   type  release_year        country\n",
      "5594  Frank and Cindy  Movie          2007  United States\n",
      "5595  Frank and Cindy  Movie          2015  United States\n",
      "----------------------------------------\n",
      "            title     type  release_year         country\n",
      "3779  Retribution  TV Show          2016  United Kingdom\n",
      "5619  Retribution    Movie          2015           Spain\n",
      "----------------------------------------\n",
      "                        title     type  release_year        country\n",
      "1778  Wet Hot American Summer    Movie          2001  United States\n",
      "5732  Wet Hot American Summer  TV Show          2015  United States\n",
      "----------------------------------------\n",
      "     title     type  release_year  \\\n",
      "2777  Life  TV Show          2018   \n",
      "5755  Life  TV Show          2009   \n",
      "\n",
      "                                                country  \n",
      "2777                                        South Korea  \n",
      "5755  United Kingdom, United States, Greece, Italy, ...  \n",
      "----------------------------------------\n"
     ]
    }
   ],
   "source": [
    "for i in df[dups]['title'].values:\n",
    "    print(df[df['title']==i][['title','type','release_year','country']])\n",
    "    print('-'*40)"
   ]
  },
  {
   "cell_type": "code",
   "execution_count": 40,
   "metadata": {},
   "outputs": [
    {
     "data": {
      "image/png": "[encoded data removed]",
      "text/plain": [
       "<Figure size 720x576 with 1 Axes>"
      ]
     },
     "metadata": {
      "needs_background": "light"
     },
     "output_type": "display_data"
    }
   ],
   "source": [
    "plt.figure(figsize=(10,8))\n",
    "df['year_added'].value_counts().plot.bar()\n",
    "plt.title('distribution of year-added')\n",
    "plt.ylabel('relative frequency')\n",
    "plt.xlabel('year_added')\n",
    "plt.show()"
   ]
  },
  {
   "cell_type": "markdown",
   "metadata": {},
   "source": [
    "<p>2018 is remarkable year for netflix</p>"
   ]
  },
  {
   "cell_type": "code",
   "execution_count": 41,
   "metadata": {},
   "outputs": [
    {
     "name": "stdout",
     "output_type": "stream",
     "text": [
      "number of contents that its release year differ from the year added to netflix are  3971\n"
     ]
    }
   ],
   "source": [
    "counts=0\n",
    "for i,j in zip(df['release_year'].values,df['year_added'].values):\n",
    "    if i!=j:\n",
    "        counts+=1\n",
    "print('number of contents that its release year differ from the year added to netflix are ',str(counts))"
   ]
  }
 ],
 "metadata": {
  "interpreter": {
   "hash": "a5a87ee616be0254e3f1af9223138e3faeac65b2c9d91bc22a9fc5a4a8bd8eb0"
  },
  "kernelspec": {
   "display_name": "Python 3.9.13 64-bit (windows store)",
   "language": "python",
   "name": "python3"
  },
  "language_info": {
   "codemirror_mode": {
    "name": "ipython",
    "version": 3
   },
   "file_extension": ".py",
   "mimetype": "text/x-python",
   "name": "python",
   "nbconvert_exporter": "python",
   "pygments_lexer": "ipython3",
   "version": "3.9.13"
  }
 },
 "nbformat": 4,
 "nbformat_minor": 1
}
